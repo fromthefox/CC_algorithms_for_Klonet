{
 "cells": [
  {
   "cell_type": "code",
   "execution_count": 18,
   "metadata": {},
   "outputs": [],
   "source": [
    "from traffic_generator import traffic_generator\n",
    "import threading\n",
    "import time"
   ]
  },
  {
   "cell_type": "code",
   "execution_count": null,
   "metadata": {},
   "outputs": [],
   "source": [
    "\"\"\"\n",
    "关于数据格式\n",
    "逻辑拓扑应该呈现为有向环形, 表现为:\n",
    "TOPOLOGY = [\"Node_i\", \"Node_j\", \"Node_k\", \"Node_l\", \"Node_m\"]\n",
    "每个Node的Segment的数据量依照DICT方式给出, 表现为:\n",
    "DATA_DICT = {\n",
    "    \"Node_i\":[10, 20, 30, 40, 1],\n",
    "    \"Node_j\":[15, 40, 25, 35, 1],\n",
    "    \"Node_k\":[12, 18, 40, 25, 1],\n",
    "    \"Node_l\":[40, 12, 15, 23, 1],\n",
    "    \"Node_m\":[20, 13, 25, 11, 12]\n",
    "}\n",
    "\"\"\""
   ]
  },
  {
   "cell_type": "code",
   "execution_count": 19,
   "metadata": {},
   "outputs": [],
   "source": [
    "TOPOLOGY = [\"Node_i\", \"Node_j\", \"Node_k\", \"Node_l\", \"Node_m\"]\n",
    "DATA_DICT = {\n",
    "    \"Node_i\":[10, 20, 30, 40, 1],\n",
    "    \"Node_j\":[15, 40, 25, 35, 1],\n",
    "    \"Node_k\":[12, 18, 40, 25, 1],\n",
    "    \"Node_l\":[40, 12, 15, 23, 1],\n",
    "    \"Node_m\":[20, 13, 25, 11, 12]\n",
    "}\n",
    "link_bandwidth = 2 # 应该以邻接矩阵给出\n",
    "traffic_distribution = \"uniform\"\n",
    "link_delay = 5"
   ]
  },
  {
   "cell_type": "code",
   "execution_count": null,
   "metadata": {},
   "outputs": [
    {
     "name": "stdout",
     "output_type": "stream",
     "text": [
      "{'Node_i': [97, 103, 135, 134, 16], 'Node_j': [97, 103, 135, 134, 16], 'Node_k': [97, 103, 135, 134, 16], 'Node_l': [97, 103, 135, 134, 16], 'Node_m': [97, 103, 135, 134, 16]}\n"
     ]
    }
   ],
   "source": [
    "# Ring-AllReduce_algorithms\n",
    "\n",
    "NODES_NUM = len(TOPOLOGY)\n",
    "MAX_STEPS = 2 * (NODES_NUM - 1)\n",
    "FINAL_DICT = DATA_DICT\n",
    "for step in range(MAX_STEPS):\n",
    "    REDUCE_FLAG = True\n",
    "    if step >= (NODES_NUM - 1):\n",
    "        REDUCE_FLAG = False\n",
    "    for node_id in range(NODES_NUM):\n",
    "        data_index = ((node_id + step*(NODES_NUM-1)) % NODES_NUM)\n",
    "        # print(data_index)\n",
    "        if node_id == NODES_NUM-1:\n",
    "            src_node = TOPOLOGY[node_id]\n",
    "            dst_node = TOPOLOGY[0]\n",
    "            if REDUCE_FLAG:\n",
    "                FINAL_DICT[dst_node][data_index] += FINAL_DICT[src_node][data_index]\n",
    "                continue\n",
    "            FINAL_DICT[dst_node][data_index] = FINAL_DICT[src_node][data_index]\n",
    "            continue\n",
    "        src_node = TOPOLOGY[node_id]\n",
    "        dst_node = TOPOLOGY[node_id+1]\n",
    "        if REDUCE_FLAG:\n",
    "            FINAL_DICT[dst_node][data_index] += FINAL_DICT[src_node][data_index]\n",
    "            continue\n",
    "        FINAL_DICT[dst_node][data_index] = FINAL_DICT[src_node][data_index]\n",
    "\n",
    "print(FINAL_DICT)"
   ]
  },
  {
   "cell_type": "code",
   "execution_count": null,
   "metadata": {},
   "outputs": [
    {
     "name": "stdout",
     "output_type": "stream",
     "text": [
      "580.0\n",
      "{'Node_i': [97, 103, 135, 134, 16], 'Node_j': [97, 103, 135, 134, 16], 'Node_k': [97, 103, 135, 134, 16], 'Node_l': [97, 103, 135, 134, 16], 'Node_m': [97, 103, 135, 134, 16]}\n"
     ]
    }
   ],
   "source": [
    "# Broadcast_algorithms (Based on Binary-Tree)\n",
    "\n",
    "father_node_list = [\"Node_i\"]\n",
    "son_node_list = [\"node_j\", \"node_k\", \"node_l\", \"node_m\", \"node_n\"]\n",
    "iter_cnt = 0\n",
    "for son_index, son_node in enumerate(son_node_list):\n",
    "    for father_index, father_node in enumerate(father_node_list):\n",
    "        father_node SEND TO son_node\n",
    "        son_node_list DELETE son_node\n",
    "        father_node_list ADD son_node\n",
    "        break\n",
    "        \n"
   ]
  }
 ],
 "metadata": {
  "kernelspec": {
   "display_name": "py310",
   "language": "python",
   "name": "python3"
  },
  "language_info": {
   "codemirror_mode": {
    "name": "ipython",
    "version": 3
   },
   "file_extension": ".py",
   "mimetype": "text/x-python",
   "name": "python",
   "nbconvert_exporter": "python",
   "pygments_lexer": "ipython3",
   "version": "3.10.14"
  }
 },
 "nbformat": 4,
 "nbformat_minor": 2
}
