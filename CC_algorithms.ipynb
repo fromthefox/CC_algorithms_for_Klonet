{
 "cells": [
  {
   "cell_type": "code",
   "execution_count": 18,
   "metadata": {},
   "outputs": [],
   "source": [
    "from traffic_generator import traffic_generator\n",
    "import threading\n",
    "import time"
   ]
  },
  {
   "cell_type": "code",
   "execution_count": null,
   "metadata": {},
   "outputs": [],
   "source": [
    "\"\"\"\n",
    "关于数据格式\n",
    "逻辑拓扑应该呈现为有向环形, 表现为:\n",
    "TOPOLOGY = [\"Node_i\", \"Node_j\", \"Node_k\", \"Node_l\", \"Node_m\"]\n",
    "每个Node的Segment的数据量依照DICT方式给出, 表现为:\n",
    "DATA_DICT = {\n",
    "    \"Node_i\":[10, 20, 30, 40, 1],\n",
    "    \"Node_j\":[15, 40, 25, 35, 1],\n",
    "    \"Node_k\":[12, 18, 40, 25, 1],\n",
    "    \"Node_l\":[40, 12, 15, 23, 1],\n",
    "    \"Node_m\":[20, 13, 25, 11, 12]\n",
    "}\n",
    "\"\"\""
   ]
  },
  {
   "cell_type": "code",
   "execution_count": 19,
   "metadata": {},
   "outputs": [],
   "source": [
    "TOPOLOGY = [\"Node_i\", \"Node_j\", \"Node_k\", \"Node_l\", \"Node_m\"]\n",
    "DATA_DICT = {\n",
    "    \"Node_i\":[10, 20, 30, 40, 1],\n",
    "    \"Node_j\":[15, 40, 25, 35, 1],\n",
    "    \"Node_k\":[12, 18, 40, 25, 1],\n",
    "    \"Node_l\":[40, 12, 15, 23, 1],\n",
    "    \"Node_m\":[20, 13, 25, 11, 12]\n",
    "}\n",
    "link_bandwidth = 2 # 应该以邻接矩阵给出\n",
    "traffic_distribution = \"uniform\"\n",
    "link_delay = 5"
   ]
  },
  {
   "cell_type": "code",
   "execution_count": null,
   "metadata": {},
   "outputs": [
    {
     "name": "stdout",
     "output_type": "stream",
     "text": [
      "{'Node_i': [97, 103, 135, 134, 16], 'Node_j': [97, 103, 135, 134, 16], 'Node_k': [97, 103, 135, 134, 16], 'Node_l': [97, 103, 135, 134, 16], 'Node_m': [97, 103, 135, 134, 16]}\n"
     ]
    }
   ],
   "source": [
    "# Ring-AllReduce_algorithms\n",
    "\n",
    "NODES_NUM = len(TOPOLOGY)\n",
    "MAX_STEPS = 2 * (NODES_NUM - 1)\n",
    "FINAL_DICT = DATA_DICT\n",
    "for step in range(MAX_STEPS):\n",
    "    REDUCE_FLAG = True\n",
    "    if step >= (NODES_NUM - 1):\n",
    "        REDUCE_FLAG = False\n",
    "    for node_id in range(NODES_NUM):\n",
    "        data_index = ((node_id + step*(NODES_NUM-1)) % NODES_NUM)\n",
    "        # print(data_index)\n",
    "        if node_id == NODES_NUM-1:\n",
    "            src_node = TOPOLOGY[node_id]\n",
    "            dst_node = TOPOLOGY[0]\n",
    "            if REDUCE_FLAG:\n",
    "                FINAL_DICT[dst_node][data_index] += FINAL_DICT[src_node][data_index]\n",
    "                continue\n",
    "            FINAL_DICT[dst_node][data_index] = FINAL_DICT[src_node][data_index]\n",
    "            continue\n",
    "        src_node = TOPOLOGY[node_id]\n",
    "        dst_node = TOPOLOGY[node_id+1]\n",
    "        if REDUCE_FLAG:\n",
    "            FINAL_DICT[dst_node][data_index] += FINAL_DICT[src_node][data_index]\n",
    "            continue\n",
    "        FINAL_DICT[dst_node][data_index] = FINAL_DICT[src_node][data_index]\n",
    "\n",
    "print(FINAL_DICT)"
   ]
  },
  {
   "cell_type": "code",
   "execution_count": 12,
   "metadata": {},
   "outputs": [
    {
     "name": "stdout",
     "output_type": "stream",
     "text": [
      "240.0\n"
     ]
    }
   ],
   "source": [
    "# Broadcast_algorithms (Based on Binary-Tree)\n",
    "\n",
    "father_nodes_list = [\"Node_i\"]\n",
    "son_nodes_list = [\"Node_j\", \"Node_k\", \"Node_l\", \"Node_m\", \"Node_n\", \"Node_o\"]\n",
    "data_size = 10000\n",
    "\n",
    "link_bandwidth = 100\n",
    "link_delay = 20\n",
    "# 这里的link_delay和link_bd都应该从邻接矩阵里面取而不是直接给出\n",
    "SUM_TIME = 0\n",
    "NODES_CNT = 1 # 记录所有收到数据的节点个数, 这里也可以用log2来做因为是基于二叉树的, 但是本质没差. 加一个计数器好像更简单一些\n",
    "while NODES_CNT < len(father_nodes_list) + len(son_nodes_list):\n",
    "    temp_father_nodes_list = []\n",
    "    max_time = 0\n",
    "    # max_time用来记录每层Tree传输的时候的最大时间, 用这个最大时间作为该层的传输时间, 最终将多层的传输时间求和得到Broadcast的完成时间\n",
    "    for father_node in father_nodes_list:\n",
    "        for index, son_node in enumerate(son_nodes_list):\n",
    "            time = data_size / link_bandwidth + link_delay\n",
    "            # 正确的方法是这里应该根据不同的link_bd和link_delay计算出不同的两个node之间的时间\n",
    "            if time > max_time:\n",
    "                max_time = time\n",
    "            NODES_CNT += 1\n",
    "            _ = son_nodes_list.pop(index)\n",
    "            temp_father_nodes_list.append(son_node)\n",
    "            break\n",
    "    SUM_TIME += max_time\n",
    "    father_nodes_list += temp_father_nodes_list\n",
    "print(SUM_TIME)"
   ]
  }
 ],
 "metadata": {
  "kernelspec": {
   "display_name": "py310",
   "language": "python",
   "name": "python3"
  },
  "language_info": {
   "codemirror_mode": {
    "name": "ipython",
    "version": 3
   },
   "file_extension": ".py",
   "mimetype": "text/x-python",
   "name": "python",
   "nbconvert_exporter": "python",
   "pygments_lexer": "ipython3",
   "version": "3.8.19"
  }
 },
 "nbformat": 4,
 "nbformat_minor": 2
}
